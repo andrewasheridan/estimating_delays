{
 "cells": [
  {
   "cell_type": "markdown",
   "metadata": {},
   "source": [
    "In general we are trying to solve an overdetermined system of equations, $\\text{A}\\bf{x} = \\bf{b}$.\n",
    "\n",
    " - Each row in the matrix $\\text{A}$ is derived from ratios of redundant visiblities, such that the elements of $\\text{A}$ are integers representing the antennas used in that ratio\n",
    "\n",
    " - the vector $\\bf{b}$ contains the sum of the antenna cable delays for that visibility ratio\n",
    "\n",
    " - the solution $\\bf{x}$ will provide the cable delay $\\tau$ for each antenna"
   ]
  },
  {
   "cell_type": "markdown",
   "metadata": {},
   "source": [
    "\\begin{equation}\n",
    "\\begin{bmatrix} \n",
    "1 & -2 & 1 & 0 & 0 & 0 & 0 & \\cdots& \\cdots\\\\ \n",
    "1 & -1 & -1 & 1 & 0 & 0 & 0 & \\cdots& \\cdots\\\\ \n",
    "\\vdots & \\vdots & \\vdots & \\vdots & \\vdots & \\vdots & \\vdots & \\ddots& \\cdots\\\\ \n",
    "\\vdots & \\vdots & \\vdots & \\vdots & \\vdots & \\vdots & \\vdots & \\vdots& \\ddots\\\\ \n",
    "\\end{bmatrix}\n",
    "\\begin{bmatrix} \n",
    "\\tau_1 \\\\ \\tau_2 \\\\ \\tau_3 \\\\ \\tau_4 \\\\ \\tau_5 \\\\ \\vdots \\\\ \\vdots \\\\ \\vdots\\\\\n",
    "\\end{bmatrix} =\n",
    "\\begin{bmatrix} \n",
    "134\\text{ns} \\\\ 78\\text{ns} \\\\ \\vdots \\\\ \\vdots \\\\ \\vdots \\\\ \\vdots \\\\ \\vdots \\\\ \\vdots\\\\\n",
    "\\end{bmatrix} \\rightarrow \\text{A}\\bf{x} = \\bf{b}\n",
    "\\end{equation}"
   ]
  },
  {
   "cell_type": "markdown",
   "metadata": {},
   "source": [
    "Each visibility ratio is proportional to a complex exponential\n",
    "\\begin{equation}\n",
    "\\frac{V_{i j}}{V_{k l}} \\propto \\exp{\\bigg(-2\\pi i \\cdot(\\tau_i - \\tau_j - \\tau_k + \\tau_l)\\bigg)}\n",
    "\\end{equation}"
   ]
  },
  {
   "cell_type": "markdown",
   "metadata": {},
   "source": [
    "Where in the example the first and second rows of $\\text{A}$ are made from these visibilities:\n",
    "\\begin{align}\n",
    "\\frac{V_{12}}{V_{23}} &\\leadsto 1\\tau_1 -2\\tau_2  + 1\\tau_3 \\rightarrow A_1\\\\\n",
    "\\frac{V_{12}}{V_{34}} &\\leadsto 1\\tau_1 -1\\tau_2  - 1\\tau_3 + 1\\tau_4 \\rightarrow A_2\\\\\n",
    "\\end{align} "
   ]
  },
  {
   "cell_type": "markdown",
   "metadata": {},
   "source": [
    "***\n"
   ]
  },
  {
   "cell_type": "code",
   "execution_count": 1,
   "metadata": {
    "ExecuteTime": {
     "end_time": "2018-08-14T21:17:13.154953Z",
     "start_time": "2018-08-14T21:17:02.431278Z"
    }
   },
   "outputs": [],
   "source": [
    "import random\n",
    "import numpy as np\n",
    "\n",
    "import estdel\n",
    "\n",
    "# using estdel_nn.data_creation as a convient way for me to import and prepare waterfall data\n",
    "from estdel_nn.data_creation import data_manipulation as dm"
   ]
  },
  {
   "cell_type": "markdown",
   "metadata": {},
   "source": [
    "Load (or generate) a list of redundant baselines and get their data"
   ]
  },
  {
   "cell_type": "code",
   "execution_count": 2,
   "metadata": {},
   "outputs": [],
   "source": [
    "red_bls, gains, uvd = dm.load_relevant_data('../zen_data/zen.2458098.58037.xx.HH.uv',\n",
    "                                            '../zen_data/zen.2458098.58037.xx.HH.uv.abs.calfits')"
   ]
  },
  {
   "cell_type": "code",
   "execution_count": 3,
   "metadata": {},
   "outputs": [],
   "source": [
    "_, _bl_dict = dm.get_or_gen_test_train_red_bls_dicts(red_bls, gains.keys(),\n",
    "                                                     training_load_path = '../data/training_redundant_baselines_dict_80.npz',\n",
    "                                                     testing_load_path = '../data/testing_redundant_baselines_dict_80.npz')\n",
    "_bl_data = dm.get_seps_data(_bl_dict, uvd)"
   ]
  },
  {
   "cell_type": "code",
   "execution_count": 4,
   "metadata": {},
   "outputs": [],
   "source": [
    "_bl_data = _bl_data\n",
    "_bl_data_c = {key : _bl_data[key].conjugate() for key in _bl_data.keys()}"
   ]
  },
  {
   "cell_type": "code",
   "execution_count": 5,
   "metadata": {},
   "outputs": [],
   "source": [
    "_gains = gains\n",
    "_gains_c = {key : _gains[key].conjugate() for key in _gains.keys()}"
   ]
  },
  {
   "cell_type": "markdown",
   "metadata": {},
   "source": [
    "***"
   ]
  },
  {
   "cell_type": "markdown",
   "metadata": {},
   "source": [
    "Get the unique antennas"
   ]
  },
  {
   "cell_type": "code",
   "execution_count": 6,
   "metadata": {},
   "outputs": [],
   "source": [
    "unique_ants = []\n",
    "for key in _bl_dict.keys():\n",
    "    if len(_bl_dict[key]) >= 2:\n",
    "        for sep in _bl_dict[key]:\n",
    "            for ant in sep:\n",
    "                if ant not in unique_ants:\n",
    "                    unique_ants.append(ant)"
   ]
  },
  {
   "cell_type": "code",
   "execution_count": 7,
   "metadata": {},
   "outputs": [],
   "source": [
    "unique_ants = sorted(unique_ants)"
   ]
  },
  {
   "cell_type": "markdown",
   "metadata": {},
   "source": [
    "Assign each antenna a random delay in the range of -100ns to 100ns"
   ]
  },
  {
   "cell_type": "code",
   "execution_count": 8,
   "metadata": {},
   "outputs": [],
   "source": [
    "generated_ant_delays = {ant : np.random.uniform(low = -0.0100, high = 0.0100) for ant in unique_ants}"
   ]
  },
  {
   "cell_type": "markdown",
   "metadata": {},
   "source": [
    "Generate a list of abstracted waterfalls of visibility ratios from redundant baselines ( pairs of redundant separations)"
   ]
  },
  {
   "cell_type": "code",
   "execution_count": 9,
   "metadata": {},
   "outputs": [],
   "source": [
    "num_waterfalls = 100\n",
    "list_o_sep_pairs = []\n",
    "\n",
    "for i in range(num_waterfalls):\n",
    "    \n",
    "    # Randomly select a redundant baseline\n",
    "    unique_baseline = random.sample(_bl_dict.keys(), 1)[0]\n",
    "    \n",
    "    while len(_bl_dict[unique_baseline]) < 2:\n",
    "        unique_baseline = random.sample(_bl_dict.keys(), 1)[0]\n",
    "\n",
    "    # randomly select two sepearations from that baseline\n",
    "    two_seps = [random.sample(_bl_dict[unique_baseline], 2)][0]\n",
    "    \n",
    "    list_o_sep_pairs.append(two_seps)"
   ]
  },
  {
   "cell_type": "markdown",
   "metadata": {},
   "source": [
    "***\n",
    "Construct Data"
   ]
  },
  {
   "cell_type": "code",
   "execution_count": 10,
   "metadata": {},
   "outputs": [],
   "source": [
    "def _flatness(seps):\n",
    "    \"\"\"Create a flatness from a given pair of seperations, their data & their gains.\"\"\"\n",
    "\n",
    "    a, b = seps[0][0], seps[0][1]\n",
    "    c, d = seps[1][0], seps[1][1]\n",
    "\n",
    "    return _bl_data[seps[0]]   * _gains_c[(a,'x')] * _gains[(b,'x')] * \\\n",
    "           _bl_data_c[seps[1]] * _gains[(c,'x')]   * _gains_c[(d,'x')]"
   ]
  },
  {
   "cell_type": "code",
   "execution_count": 11,
   "metadata": {},
   "outputs": [],
   "source": [
    "def get_target(two_seps, d):\n",
    "    \n",
    "    ants = flatten_list_o_tuples(two_seps)\n",
    "    \n",
    "    ratio_delay  = d[ants[0]]\n",
    "    ratio_delay -= d[ants[1]]\n",
    "    ratio_delay -= d[ants[2]]\n",
    "    ratio_delay += d[ants[3]]\n",
    "    \n",
    "    return ratio_delay"
   ]
  },
  {
   "cell_type": "code",
   "execution_count": 12,
   "metadata": {},
   "outputs": [],
   "source": [
    "waterfalls = []\n",
    "targets = []\n",
    "flatten_list_o_tuples = lambda x: np.array(list(sum(x, ())))\n",
    "\n",
    "nu = np.arange(1024)\n",
    "for i in range(num_waterfalls):\n",
    "    \n",
    "\n",
    "    two_seps = list_o_sep_pairs[i]       \n",
    "    true_delay = get_target(two_seps, generated_ant_delays)\n",
    "    waterfall = _flatness(two_seps)*np.exp(-2j*np.pi*(nu*true_delay + np.random.uniform()))\n",
    "    \n",
    "    waterfalls.append(waterfall)\n",
    " "
   ]
  },
  {
   "cell_type": "code",
   "execution_count": 13,
   "metadata": {},
   "outputs": [],
   "source": [
    "freqs = np.linspace(0.100,0.200,1024)"
   ]
  },
  {
   "cell_type": "code",
   "execution_count": 14,
   "metadata": {},
   "outputs": [],
   "source": [
    "channel_width_in_GHz = np.mean(np.diff(freqs))"
   ]
  },
  {
   "cell_type": "code",
   "execution_count": 15,
   "metadata": {},
   "outputs": [],
   "source": [
    "def scale_delays_to_ns(delays, channel_width_in_GHz = np.mean(np.diff(np.linspace(0.100,0.200,1024)))):\n",
    "    return delays / channel_width_in_GHz"
   ]
  },
  {
   "cell_type": "code",
   "execution_count": 16,
   "metadata": {},
   "outputs": [],
   "source": [
    "# delays in nanoseconds\n",
    "true_ant_delays = {ant :scale_delays_to_ns(generated_ant_delays[ant]) for ant in generated_ant_delays.keys()}"
   ]
  },
  {
   "cell_type": "code",
   "execution_count": 17,
   "metadata": {},
   "outputs": [
    {
     "data": {
      "text/plain": [
       "array([  1,  11,  12,  13,  14,  23,  24,  25,  26,  27,  36,  37,  38,\n",
       "        39,  40,  41,  51,  52,  53,  54,  55,  65,  66,  67,  68,  69,\n",
       "        70,  71,  82,  83,  84,  86,  87,  88, 120, 121, 122, 123, 124,\n",
       "       137, 138, 139, 140, 141, 142, 143], dtype=int32)"
      ]
     },
     "execution_count": 17,
     "metadata": {},
     "output_type": "execute_result"
    }
   ],
   "source": [
    "np.unique(list_o_sep_pairs)"
   ]
  },
  {
   "cell_type": "code",
   "execution_count": 18,
   "metadata": {},
   "outputs": [],
   "source": [
    "solver = estdel.DelaySolver(list_o_sep_pairs, waterfalls, conversion_fn='default')"
   ]
  },
  {
   "cell_type": "code",
   "execution_count": 19,
   "metadata": {},
   "outputs": [],
   "source": [
    "true_b = solver.true_b(true_ant_delays)"
   ]
  },
  {
   "cell_type": "code",
   "execution_count": 20,
   "metadata": {},
   "outputs": [],
   "source": [
    "solver.predict()"
   ]
  },
  {
   "cell_type": "code",
   "execution_count": 21,
   "metadata": {},
   "outputs": [],
   "source": [
    "pred_b = solver.watefall_time_predictions"
   ]
  },
  {
   "cell_type": "code",
   "execution_count": 22,
   "metadata": {},
   "outputs": [],
   "source": [
    "# http://maxwell.ucsc.edu/~drip/133/ch4.pdf\n",
    "red_chi2 = np.sum((pred_b - np.mean(pred_b))**2/np.std(pred_b)**2) / len(pred_b)"
   ]
  },
  {
   "cell_type": "code",
   "execution_count": 23,
   "metadata": {},
   "outputs": [
    {
     "data": {
      "text/plain": [
       "1.0"
      ]
     },
     "execution_count": 23,
     "metadata": {},
     "output_type": "execute_result"
    }
   ],
   "source": [
    "red_chi2"
   ]
  },
  {
   "cell_type": "code",
   "execution_count": 24,
   "metadata": {},
   "outputs": [],
   "source": [
    "red_chi2a = np.sum((pred_b -  - np.mean(pred_b))**2/np.std(pred_b)**2) / len(pred_b)"
   ]
  },
  {
   "cell_type": "code",
   "execution_count": 25,
   "metadata": {},
   "outputs": [
    {
     "data": {
      "text/plain": [
       "1.0"
      ]
     },
     "execution_count": 25,
     "metadata": {},
     "output_type": "execute_result"
    }
   ],
   "source": [
    "red_chi2"
   ]
  },
  {
   "cell_type": "code",
   "execution_count": 26,
   "metadata": {},
   "outputs": [],
   "source": [
    "import matplotlib.pyplot as plt"
   ]
  },
  {
   "cell_type": "code",
   "execution_count": 27,
   "metadata": {},
   "outputs": [
    {
     "data": {
      "text/plain": [
       "[]"
      ]
     },
     "execution_count": 27,
     "metadata": {},
     "output_type": "execute_result"
    },
    {
     "data": {
      "image/png": "[encoded data removed]",
      "text/plain": [
       "<Figure size 1152x432 with 1 Axes>"
      ]
     },
     "metadata": {},
     "output_type": "display_data"
    }
   ],
   "source": [
    "fig, ax = plt.subplots(figsize = (8,3), dpi = 144)\n",
    "plt.vlines(range(len(pred_b)), 0, true_b- pred_b, lw = 0.5)\n",
    "plt.xlabel(\"Delay error [ns]\")\n",
    "plt.ylabel(\"time\")\n",
    "plt.plot()"
   ]
  },
  {
   "cell_type": "code",
   "execution_count": 28,
   "metadata": {},
   "outputs": [
    {
     "data": {
      "text/plain": [
       "[]"
      ]
     },
     "execution_count": 28,
     "metadata": {},
     "output_type": "execute_result"
    },
    {
     "data": {
      "image/png": "[encoded data removed]",
      "text/plain": [
       "<Figure size 1152x432 with 1 Axes>"
      ]
     },
     "metadata": {},
     "output_type": "display_data"
    }
   ],
   "source": [
    "fig, ax = plt.subplots(figsize = (8,3), dpi = 144)\n",
    "plt.hist(true_b- pred_b, bins = 100)\n",
    "plt.xlabel(\"Delay error\")\n",
    "plt.plot()"
   ]
  },
  {
   "cell_type": "code",
   "execution_count": 29,
   "metadata": {},
   "outputs": [
    {
     "data": {
      "text/plain": [
       "1.3531395691153068"
      ]
     },
     "execution_count": 29,
     "metadata": {},
     "output_type": "execute_result"
    }
   ],
   "source": [
    "np.std(np.abs(true_b- pred_b))"
   ]
  },
  {
   "cell_type": "code",
   "execution_count": 30,
   "metadata": {},
   "outputs": [],
   "source": [
    "A = solver.A"
   ]
  },
  {
   "cell_type": "code",
   "execution_count": 31,
   "metadata": {},
   "outputs": [],
   "source": [
    "x_prediction_eval = np.linalg.lstsq(A[:, solver.unique_ants], pred_b, rcond = None)"
   ]
  },
  {
   "cell_type": "code",
   "execution_count": 32,
   "metadata": {},
   "outputs": [],
   "source": [
    "x_prediction = x_prediction_eval[0]"
   ]
  },
  {
   "cell_type": "code",
   "execution_count": 33,
   "metadata": {},
   "outputs": [
    {
     "data": {
      "text/plain": [
       "array([  48.53675488,   31.15607083,   79.39574516,    4.54429175,\n",
       "          1.04661787,   98.82139462,  -78.58105893,  -83.93944117,\n",
       "         56.92965357,  -85.76031472,  -53.3006416 ,   20.58596648,\n",
       "        -51.64222669,   67.75086597,   -2.29735168,   42.33770961,\n",
       "        -44.87094019,  -19.22947067,   89.97526226,  -47.14938634,\n",
       "         77.7639261 ,  -88.17706475,   -1.47760508,  -63.88056989,\n",
       "        -67.84635133,   75.91083243,  -69.15602734,  -14.56913263,\n",
       "        -16.48523784,   -5.15971116,   34.8116432 ,  -29.54932281,\n",
       "       -110.60880546,  -23.30228148,   86.18043545,   88.05534068,\n",
       "        -13.40443146,   49.26900636,   16.24734923,  -56.35020637,\n",
       "         17.31335785,   50.59408084,   88.77551921,   45.81051697,\n",
       "        -48.70232591,  -96.37243583])"
      ]
     },
     "execution_count": 33,
     "metadata": {},
     "output_type": "execute_result"
    }
   ],
   "source": [
    "x_prediction"
   ]
  },
  {
   "cell_type": "code",
   "execution_count": 34,
   "metadata": {},
   "outputs": [
    {
     "data": {
      "text/plain": [
       "{1: 48.53675488423813,\n",
       " 11: 31.156070834443142,\n",
       " 12: 79.39574516344837,\n",
       " 13: 4.5442917493290516,\n",
       " 14: 1.0466178693656722,\n",
       " 23: 98.82139462120526,\n",
       " 24: -78.58105893348723,\n",
       " 25: -83.93944117343912,\n",
       " 26: 56.92965356813886,\n",
       " 27: -85.76031472151632,\n",
       " 36: -53.300641599347834,\n",
       " 37: 20.58596647870072,\n",
       " 38: -51.642226686333785,\n",
       " 39: 67.75086596762092,\n",
       " 40: -2.2973516813903956,\n",
       " 41: 42.33770961215569,\n",
       " 51: -44.87094019088312,\n",
       " 52: -19.229470672606546,\n",
       " 53: 89.97526225992289,\n",
       " 54: -47.14938633996487,\n",
       " 55: 77.76392609751143,\n",
       " 65: -88.17706475413857,\n",
       " 66: -1.4776050788992805,\n",
       " 67: -63.880569891854535,\n",
       " 68: -67.8463513300327,\n",
       " 69: 75.91083243468354,\n",
       " 70: -69.15602733682438,\n",
       " 71: -14.569132625891868,\n",
       " 82: -16.485237839688246,\n",
       " 83: -5.159711163947463,\n",
       " 84: 34.81164320266437,\n",
       " 86: -29.549322807124522,\n",
       " 87: -110.60880546404553,\n",
       " 88: -23.302281483883206,\n",
       " 120: 86.18043544988433,\n",
       " 121: 88.05534068276852,\n",
       " 122: -13.404431458742977,\n",
       " 123: 49.26900636046674,\n",
       " 124: 16.247349230065968,\n",
       " 137: -56.35020636925985,\n",
       " 138: 17.31335784726689,\n",
       " 139: 50.59408084165047,\n",
       " 140: 88.77551920947667,\n",
       " 141: 45.81051697103666,\n",
       " 142: -48.70232590592988,\n",
       " 143: -96.3724358268102}"
      ]
     },
     "execution_count": 34,
     "metadata": {},
     "output_type": "execute_result"
    }
   ],
   "source": [
    "predicted_antenna_delays = {solver.unique_ants[i]: x_prediction[i] for i in range(len(x_prediction))}\n",
    "predicted_antenna_delays"
   ]
  },
  {
   "cell_type": "code",
   "execution_count": 35,
   "metadata": {},
   "outputs": [
    {
     "name": "stdout",
     "output_type": "stream",
     "text": [
      "  1:  48.54,  46.13\n",
      " 11:  31.16,  22.37\n",
      " 12:  79.40,  72.77\n",
      " 13:   4.54,   8.28\n",
      " 14:   1.05,  10.34\n",
      " 23:  98.82,  87.65\n",
      " 24: -78.58, -82.60\n",
      " 25: -83.94, -82.21\n",
      " 26:  56.93,  65.17\n",
      " 27: -85.76, -73.25\n",
      " 36: -53.30, -64.36\n",
      " 37:  20.59,  16.75\n",
      " 38: -51.64, -51.76\n",
      " 39:  67.75,  72.47\n",
      " 40:  -2.30,  10.22\n",
      " 41:  42.34,  64.29\n",
      " 51: -44.87, -52.36\n",
      " 52: -19.23, -23.43\n",
      " 53:  89.98,  94.42\n",
      " 54: -47.15, -33.85\n",
      " 55:  77.76,  94.12\n",
      " 65: -88.18, -102.28\n",
      " 66:  -1.48,  -9.01\n",
      " 67: -63.88, -65.72\n",
      " 68: -67.85, -60.34\n",
      " 69:  75.91,  85.67\n",
      " 70: -69.16, -55.13\n",
      " 71: -14.57,   7.43\n",
      " 82: -16.49, -27.08\n",
      " 83:  -5.16,  -5.71\n",
      " 84:  34.81,  37.89\n",
      " 86: -29.55, -15.15\n",
      " 87: -110.61, -89.89\n",
      " 88: -23.30,   2.38\n",
      "120:  86.18,  91.34\n",
      "121:  88.06, 101.21\n",
      "122: -13.40,   3.19\n",
      "123:  49.27,  72.98\n",
      "124:  16.25,  40.33\n",
      "137: -56.35, -63.00\n",
      "138:  17.31,  18.17\n",
      "139:  50.59,  53.57\n",
      "140:  88.78, 100.68\n",
      "141:  45.81,  61.85\n",
      "142: -48.70, -28.68\n",
      "143: -96.37, -67.55\n"
     ]
    }
   ],
   "source": [
    "error = {}\n",
    "error_ls = []\n",
    "for key in sorted(predicted_antenna_delays.keys()):\n",
    "    print('{:3d}: {:6.2f}, {:6.2f}'.format(key,predicted_antenna_delays[key], scale_delays_to_ns(generated_ant_delays[key])))\n",
    "    error[key] = scale_delays_to_ns(generated_ant_delays[key]) - predicted_antenna_delays[key]\n",
    "    error_ls.append(error[key])"
   ]
  },
  {
   "cell_type": "code",
   "execution_count": 36,
   "metadata": {},
   "outputs": [
    {
     "data": {
      "text/plain": [
       "<matplotlib.collections.LineCollection at 0x1c23112910>"
      ]
     },
     "execution_count": 36,
     "metadata": {},
     "output_type": "execute_result"
    },
    {
     "data": {
      "image/png": "[encoded data removed]",
      "text/plain": [
       "<Figure size 432x288 with 1 Axes>"
      ]
     },
     "metadata": {},
     "output_type": "display_data"
    }
   ],
   "source": [
    "plt.vlines(range(len(error_ls)), 0, error_ls)"
   ]
  },
  {
   "cell_type": "code",
   "execution_count": null,
   "metadata": {},
   "outputs": [],
   "source": []
  },
  {
   "cell_type": "code",
   "execution_count": null,
   "metadata": {},
   "outputs": [],
   "source": []
  },
  {
   "cell_type": "code",
   "execution_count": null,
   "metadata": {},
   "outputs": [],
   "source": []
  }
 ],
 "metadata": {
  "kernelspec": {
   "display_name": "Python 2",
   "language": "python",
   "name": "python2"
  },
  "language_info": {
   "codemirror_mode": {
    "name": "ipython",
    "version": 2
   },
   "file_extension": ".py",
   "mimetype": "text/x-python",
   "name": "python",
   "nbconvert_exporter": "python",
   "pygments_lexer": "ipython2",
   "version": "2.7.15"
  },
  "varInspector": {
   "cols": {
    "lenName": 16,
    "lenType": 16,
    "lenVar": 40
   },
   "kernels_config": {
    "python": {
     "delete_cmd_postfix": "",
     "delete_cmd_prefix": "del ",
     "library": "var_list.py",
     "varRefreshCmd": "print(var_dic_list())"
    },
    "r": {
     "delete_cmd_postfix": ") ",
     "delete_cmd_prefix": "rm(",
     "library": "var_list.r",
     "varRefreshCmd": "cat(var_dic_list()) "
    }
   },
   "types_to_exclude": [
    "module",
    "function",
    "builtin_function_or_method",
    "instance",
    "_Feature"
   ],
   "window_display": false
  }
 },
 "nbformat": 4,
 "nbformat_minor": 2
}
