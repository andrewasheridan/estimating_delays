{
 "cells": [
  {
   "cell_type": "markdown",
   "metadata": {},
   "source": [
    "In general we are trying to solve an overdetermined system of equations, $\\text{A}\\bf{x} = \\bf{b}$.\n",
    "\n",
    " - Each row in the matrix $\\text{A}$ is derived from ratios of redundant visiblities, such that the elements of $\\text{A}$ are integers representing the antennas used in that ratio\n",
    "\n",
    " - the vector $\\bf{b}$ contains the sum of the antenna cable delays for that visibility ratio\n",
    "\n",
    " - the solution $\\bf{x}$ will provide the cable delay $\\tau$ for each antenna"
   ]
  },
  {
   "cell_type": "markdown",
   "metadata": {},
   "source": [
    "\\begin{equation}\n",
    "\\begin{bmatrix} \n",
    "1 & -2 & 1 & 0 & 0 & 0 & 0 & \\cdots& \\cdots\\\\ \n",
    "1 & -1 & -1 & 1 & 0 & 0 & 0 & \\cdots& \\cdots\\\\ \n",
    "\\vdots & \\vdots & \\vdots & \\vdots & \\vdots & \\vdots & \\vdots & \\ddots& \\cdots\\\\ \n",
    "\\vdots & \\vdots & \\vdots & \\vdots & \\vdots & \\vdots & \\vdots & \\vdots& \\ddots\\\\ \n",
    "\\end{bmatrix}\n",
    "\\begin{bmatrix} \n",
    "\\tau_1 \\\\ \\tau_2 \\\\ \\tau_3 \\\\ \\tau_4 \\\\ \\tau_5 \\\\ \\vdots \\\\ \\vdots \\\\ \\vdots\\\\\n",
    "\\end{bmatrix} =\n",
    "\\begin{bmatrix} \n",
    "134\\text{ns} \\\\ 78\\text{ns} \\\\ \\vdots \\\\ \\vdots \\\\ \\vdots \\\\ \\vdots \\\\ \\vdots \\\\ \\vdots\\\\\n",
    "\\end{bmatrix} \\rightarrow \\text{A}\\bf{x} = \\bf{b}\n",
    "\\end{equation}"
   ]
  },
  {
   "cell_type": "markdown",
   "metadata": {},
   "source": [
    "Each visibility ratio is proportional to a complex exponential\n",
    "\\begin{equation}\n",
    "\\frac{V_{i j}}{V_{k l}} \\propto \\exp{\\bigg(-2\\pi i \\cdot(\\tau_i - \\tau_j - \\tau_k + \\tau_l)\\bigg)}\n",
    "\\end{equation}"
   ]
  },
  {
   "cell_type": "markdown",
   "metadata": {},
   "source": [
    "Where in the example the first and second rows of $\\text{A}$ are made from these visibilities:\n",
    "\\begin{align}\n",
    "\\frac{V_{12}}{V_{23}} &\\leadsto 1\\tau_1 -2\\tau_2  + 1\\tau_3 \\rightarrow A_1\\\\\n",
    "\\frac{V_{12}}{V_{34}} &\\leadsto 1\\tau_1 -1\\tau_2  - 1\\tau_3 + 1\\tau_4 \\rightarrow A_2\\\\\n",
    "\\end{align} "
   ]
  },
  {
   "cell_type": "markdown",
   "metadata": {},
   "source": [
    "***\n"
   ]
  },
  {
   "cell_type": "code",
   "execution_count": 1,
   "metadata": {
    "ExecuteTime": {
     "end_time": "2018-08-14T21:17:13.154953Z",
     "start_time": "2018-08-14T21:17:02.431278Z"
    }
   },
   "outputs": [],
   "source": [
    "import random\n",
    "import numpy as np\n",
    "\n",
    "import estdel\n",
    "\n",
    "from nn.data_creation import data_manipulation as dm"
   ]
  },
  {
   "cell_type": "markdown",
   "metadata": {},
   "source": [
    "Load (or generate) a list of redundant baselines and get their data"
   ]
  },
  {
   "cell_type": "code",
   "execution_count": 2,
   "metadata": {},
   "outputs": [],
   "source": [
    "red_bls, gains, uvd = dm.load_relevant_data('zen_data/zen.2458098.58037.xx.HH.uv',\n",
    "                                            'zen_data/zen.2458098.58037.xx.HH.uv.abs.calfits')"
   ]
  },
  {
   "cell_type": "code",
   "execution_count": 3,
   "metadata": {},
   "outputs": [],
   "source": [
    "_, _bl_dict = dm.get_or_gen_test_train_red_bls_dicts(red_bls, gains.keys(),\n",
    "                                                     training_load_path = 'data/training_redundant_baselines_dict_80.npz',\n",
    "                                                     testing_load_path = 'data/testing_redundant_baselines_dict_80.npz')\n",
    "_bl_data = dm.get_seps_data(_bl_dict, uvd)"
   ]
  },
  {
   "cell_type": "code",
   "execution_count": 4,
   "metadata": {},
   "outputs": [],
   "source": [
    "_bl_data = _bl_data\n",
    "_bl_data_c = {key : _bl_data[key].conjugate() for key in _bl_data.keys()}"
   ]
  },
  {
   "cell_type": "code",
   "execution_count": 5,
   "metadata": {},
   "outputs": [],
   "source": [
    "_gains = gains\n",
    "_gains_c = {key : _gains[key].conjugate() for key in _gains.keys()}"
   ]
  },
  {
   "cell_type": "markdown",
   "metadata": {},
   "source": [
    "***"
   ]
  },
  {
   "cell_type": "markdown",
   "metadata": {},
   "source": [
    "Get the unique antennas"
   ]
  },
  {
   "cell_type": "code",
   "execution_count": 6,
   "metadata": {},
   "outputs": [],
   "source": [
    "unique_ants = []\n",
    "for key in _bl_dict.keys():\n",
    "    if len(_bl_dict[key]) >= 2:\n",
    "        for sep in _bl_dict[key]:\n",
    "            for ant in sep:\n",
    "                if ant not in unique_ants:\n",
    "                    unique_ants.append(ant)"
   ]
  },
  {
   "cell_type": "code",
   "execution_count": 7,
   "metadata": {},
   "outputs": [],
   "source": [
    "unique_ants = sorted(unique_ants)"
   ]
  },
  {
   "cell_type": "markdown",
   "metadata": {},
   "source": [
    "Assign each antenna a random delay in the range of -100ns to 100ns"
   ]
  },
  {
   "cell_type": "code",
   "execution_count": 8,
   "metadata": {},
   "outputs": [],
   "source": [
    "generated_ant_delays = {ant : np.random.uniform(low = -0.0100, high = 0.0100) for ant in unique_ants}"
   ]
  },
  {
   "cell_type": "markdown",
   "metadata": {},
   "source": [
    "Generate a list of abstracted visibility ratios from redundant baselines ( pairs of redundant separations)"
   ]
  },
  {
   "cell_type": "code",
   "execution_count": 9,
   "metadata": {},
   "outputs": [],
   "source": [
    "num_V_ratios = 100\n",
    "list_o_sep_pairs = []\n",
    "\n",
    "for i in range(num_V_ratios):\n",
    "    \n",
    "    # Randomly select a redundant baseline\n",
    "    unique_baseline = random.sample(_bl_dict.keys(), 1)[0]\n",
    "    \n",
    "    while len(_bl_dict[unique_baseline]) < 2:\n",
    "        unique_baseline = random.sample(_bl_dict.keys(), 1)[0]\n",
    "\n",
    "    # randomly select two sepearations from that baseline\n",
    "    two_seps = [random.sample(_bl_dict[unique_baseline], 2)][0]\n",
    "    \n",
    "    list_o_sep_pairs.append(two_seps)"
   ]
  },
  {
   "cell_type": "markdown",
   "metadata": {},
   "source": [
    "***\n",
    "Construct Data"
   ]
  },
  {
   "cell_type": "code",
   "execution_count": 10,
   "metadata": {},
   "outputs": [],
   "source": [
    "def _flatness(seps):\n",
    "    \"\"\"Create a flatness from a given pair of seperations, their data & their gains.\"\"\"\n",
    "\n",
    "    a, b = seps[0][0], seps[0][1]\n",
    "    c, d = seps[1][0], seps[1][1]\n",
    "\n",
    "    return _bl_data[seps[0]]   * _gains_c[(a,'x')] * _gains[(b,'x')] * \\\n",
    "           _bl_data_c[seps[1]] * _gains[(c,'x')]   * _gains_c[(d,'x')]"
   ]
  },
  {
   "cell_type": "code",
   "execution_count": 11,
   "metadata": {},
   "outputs": [],
   "source": [
    "def get_target(two_seps, d):\n",
    "    \n",
    "    ants = flatten_list_o_tuples(two_seps)\n",
    "    \n",
    "    ratio_delay  = d[ants[0]]\n",
    "    ratio_delay -= d[ants[1]]\n",
    "    ratio_delay -= d[ants[2]]\n",
    "    ratio_delay += d[ants[3]]\n",
    "    \n",
    "    return ratio_delay"
   ]
  },
  {
   "cell_type": "code",
   "execution_count": 12,
   "metadata": {},
   "outputs": [],
   "source": [
    "inputs = []\n",
    "targets = []\n",
    "flatten_list_o_tuples = lambda x: np.array(list(sum(x, ())))\n",
    "\n",
    "nu = np.arange(1024)\n",
    "for i in range(num_V_ratios):\n",
    "    \n",
    "\n",
    "    two_seps = list_o_sep_pairs[i]       \n",
    "    true_delay = get_target(two_seps, generated_ant_delays)\n",
    "    v_ratio = _flatness(two_seps)*np.exp(-2j*np.pi*(nu*true_delay + np.random.uniform()))\n",
    "    \n",
    "    inputs.append(v_ratio)\n",
    " "
   ]
  },
  {
   "cell_type": "code",
   "execution_count": 13,
   "metadata": {},
   "outputs": [],
   "source": [
    "freqs = np.linspace(0.100,0.200,1024)"
   ]
  },
  {
   "cell_type": "code",
   "execution_count": 14,
   "metadata": {},
   "outputs": [],
   "source": [
    "channel_width_in_GHz = np.mean(np.diff(freqs))"
   ]
  },
  {
   "cell_type": "code",
   "execution_count": 15,
   "metadata": {},
   "outputs": [],
   "source": [
    "def scale_delays_to_ns(delays, channel_width_in_GHz = np.mean(np.diff(np.linspace(0.100,0.200,1024)))):\n",
    "    return delays / channel_width_in_GHz"
   ]
  },
  {
   "cell_type": "code",
   "execution_count": 16,
   "metadata": {},
   "outputs": [],
   "source": [
    "# delays in nanoseconds\n",
    "true_ant_delays = {ant :scale_delays_to_ns(generated_ant_delays[ant]) for ant in generated_ant_delays.keys()}"
   ]
  },
  {
   "cell_type": "code",
   "execution_count": 17,
   "metadata": {},
   "outputs": [],
   "source": [
    "tester = estdel.DelaySolver(list_o_sep_pairs, inputs, conversion_fn='default')"
   ]
  },
  {
   "cell_type": "code",
   "execution_count": 18,
   "metadata": {},
   "outputs": [],
   "source": [
    "true_b = tester.true_b(true_ant_delays)"
   ]
  },
  {
   "cell_type": "code",
   "execution_count": 19,
   "metadata": {},
   "outputs": [],
   "source": [
    "tester.predict()"
   ]
  },
  {
   "cell_type": "code",
   "execution_count": 20,
   "metadata": {},
   "outputs": [],
   "source": [
    "pred_b = tester.v_ratio_row_predictions"
   ]
  },
  {
   "cell_type": "code",
   "execution_count": 21,
   "metadata": {},
   "outputs": [],
   "source": [
    "# http://maxwell.ucsc.edu/~drip/133/ch4.pdf\n",
    "red_chi2 = np.sum((pred_b - np.mean(pred_b))**2/np.std(pred_b)**2) / len(pred_b)"
   ]
  },
  {
   "cell_type": "code",
   "execution_count": 22,
   "metadata": {},
   "outputs": [
    {
     "data": {
      "text/plain": [
       "1.0000000000000002"
      ]
     },
     "execution_count": 22,
     "metadata": {},
     "output_type": "execute_result"
    }
   ],
   "source": [
    "red_chi2"
   ]
  },
  {
   "cell_type": "code",
   "execution_count": 23,
   "metadata": {},
   "outputs": [],
   "source": [
    "import matplotlib.pyplot as plt"
   ]
  },
  {
   "cell_type": "code",
   "execution_count": 24,
   "metadata": {},
   "outputs": [
    {
     "data": {
      "text/plain": [
       "<matplotlib.collections.LineCollection at 0x1c1e1b6950>"
      ]
     },
     "execution_count": 24,
     "metadata": {},
     "output_type": "execute_result"
    },
    {
     "data": {
      "image/png": "[encoded data removed]",
      "text/plain": [
       "<Figure size 1152x432 with 1 Axes>"
      ]
     },
     "metadata": {},
     "output_type": "display_data"
    }
   ],
   "source": [
    "fig, ax = plt.subplots(figsize = (8,3), dpi = 144)\n",
    "plt.vlines(range(len(pred_b)), 0, true_b- pred_b, lw = 0.5)\n"
   ]
  },
  {
   "cell_type": "code",
   "execution_count": 25,
   "metadata": {},
   "outputs": [
    {
     "data": {
      "image/png": "[encoded data removed]",
      "text/plain": [
       "<Figure size 1152x432 with 1 Axes>"
      ]
     },
     "metadata": {},
     "output_type": "display_data"
    }
   ],
   "source": [
    "fig, ax = plt.subplots(figsize = (8,3), dpi = 144)\n",
    "plt.hist(true_b- pred_b, bins = 100);"
   ]
  },
  {
   "cell_type": "code",
   "execution_count": 26,
   "metadata": {},
   "outputs": [
    {
     "data": {
      "text/plain": [
       "2.3486669303428727"
      ]
     },
     "execution_count": 26,
     "metadata": {},
     "output_type": "execute_result"
    }
   ],
   "source": [
    "np.std(np.abs(true_b- pred_b))"
   ]
  },
  {
   "cell_type": "code",
   "execution_count": 27,
   "metadata": {},
   "outputs": [],
   "source": [
    "A = tester.A"
   ]
  },
  {
   "cell_type": "code",
   "execution_count": 28,
   "metadata": {},
   "outputs": [],
   "source": [
    "x_prediction_eval = np.linalg.lstsq(A[:, tester.unique_ants], pred_b, rcond = None)"
   ]
  },
  {
   "cell_type": "code",
   "execution_count": 29,
   "metadata": {},
   "outputs": [],
   "source": [
    "x_prediction = x_prediction_eval[0]"
   ]
  },
  {
   "cell_type": "code",
   "execution_count": 30,
   "metadata": {},
   "outputs": [
    {
     "data": {
      "text/plain": [
       "array([  80.53188813,   52.29513749,   51.67631295, -101.01743818,\n",
       "         76.12112608,   35.98163194,   12.16703832,  -25.87346451,\n",
       "        -88.45694588,   -2.20556915,  -21.22551713,   -2.32608944,\n",
       "         42.48472666,  -88.50580419,  -54.87881443,   50.28615893,\n",
       "         33.46720106,   21.70603134,   60.94127252,  -86.05451904,\n",
       "         48.9631517 ,   -7.23343721,  -60.36664264,  -39.86371298,\n",
       "         55.48851999,  -93.87860376,  -89.15737724,  -45.10674816,\n",
       "        -71.95139141,   68.76424984,  -36.16968734,   76.04532271,\n",
       "         -3.8535029 ,  -15.08290795,   95.73958541,   89.80550501,\n",
       "         42.68478734,   61.25869578,  -51.07339956,   -6.75061158,\n",
       "        -71.84768944,  -17.41048912,  -24.05469682,   80.31549467,\n",
       "        -90.64978394,   58.27100613])"
      ]
     },
     "execution_count": 30,
     "metadata": {},
     "output_type": "execute_result"
    }
   ],
   "source": [
    "x_prediction"
   ]
  },
  {
   "cell_type": "code",
   "execution_count": 31,
   "metadata": {},
   "outputs": [
    {
     "data": {
      "text/plain": [
       "{1: 80.53188812935186,\n",
       " 11: 52.29513749379282,\n",
       " 12: 51.67631294930009,\n",
       " 13: -101.01743817976009,\n",
       " 14: 76.12112607501501,\n",
       " 23: 35.98163193847883,\n",
       " 24: 12.16703831505317,\n",
       " 25: -25.873464507351052,\n",
       " 26: -88.45694587873834,\n",
       " 27: -2.2055691515551104,\n",
       " 36: -21.225517130745036,\n",
       " 37: -2.326089441595684,\n",
       " 38: 42.48472666352656,\n",
       " 39: -88.50580419474444,\n",
       " 40: -54.87881442732121,\n",
       " 41: 50.28615893123077,\n",
       " 51: 33.467201056604296,\n",
       " 52: 21.706031338626104,\n",
       " 53: 60.94127251521858,\n",
       " 54: -86.05451904258345,\n",
       " 55: 48.963151702098855,\n",
       " 65: -7.233437211479128,\n",
       " 66: -60.36664264304467,\n",
       " 67: -39.86371297653726,\n",
       " 68: 55.48851998714331,\n",
       " 69: -93.87860376065503,\n",
       " 70: -89.15737723665347,\n",
       " 71: -45.106748159482635,\n",
       " 82: -71.95139140749792,\n",
       " 83: 68.7642498443633,\n",
       " 84: -36.169687335111576,\n",
       " 86: 76.04532270515618,\n",
       " 87: -3.8535028950408616,\n",
       " 88: -15.082907947184871,\n",
       " 120: 95.73958540888108,\n",
       " 121: 89.80550500568918,\n",
       " 122: 42.68478733732789,\n",
       " 123: 61.25869578340064,\n",
       " 124: -51.073399560609715,\n",
       " 137: -6.750611582397134,\n",
       " 138: -71.84768943781475,\n",
       " 139: -17.410489115315755,\n",
       " 140: -24.054696817750106,\n",
       " 141: 80.31549466992723,\n",
       " 142: -90.64978394203942,\n",
       " 143: 58.271006132823146}"
      ]
     },
     "execution_count": 31,
     "metadata": {},
     "output_type": "execute_result"
    }
   ],
   "source": [
    "predicted_antenna_delays = {tester.unique_ants[i]: x_prediction[i] for i in range(len(x_prediction))}\n",
    "predicted_antenna_delays"
   ]
  },
  {
   "cell_type": "code",
   "execution_count": 32,
   "metadata": {},
   "outputs": [
    {
     "name": "stdout",
     "output_type": "stream",
     "text": [
      "  1:  80.53,  95.32\n",
      " 11:  52.30,  55.38\n",
      " 12:  51.68,  60.00\n",
      " 13: -101.02, -85.09\n",
      " 14:  76.12, 100.50\n",
      " 23:  35.98,  34.76\n",
      " 24:  12.17,  10.32\n",
      " 25: -25.87, -14.46\n",
      " 26: -88.46, -68.99\n",
      " 27:  -2.21,  21.33\n",
      " 36: -21.23, -27.42\n",
      " 37:  -2.33,   2.54\n",
      " 38:  42.48,  48.11\n",
      " 39: -88.51, -75.30\n",
      " 40: -54.88, -33.75\n",
      " 41:  50.29,  76.79\n",
      " 51:  33.47,  28.08\n",
      " 52:  21.71,  21.00\n",
      " 53:  60.94,  67.38\n",
      " 54: -86.05, -70.13\n",
      " 55:  48.96,  72.10\n",
      " 65:  -7.23, -23.61\n",
      " 66: -60.37, -69.88\n",
      " 67: -39.86, -43.10\n",
      " 68:  55.49,  59.04\n",
      " 69: -93.88, -82.02\n",
      " 70: -89.16, -71.77\n",
      " 71: -45.11, -19.33\n",
      " 82: -71.95, -86.58\n",
      " 83:  68.76,  61.46\n",
      " 84: -36.17, -37.28\n",
      " 86:  76.05,  88.08\n",
      " 87:  -3.85,  15.15\n",
      " 88: -15.08,  10.51\n",
      "120:  95.74,  91.23\n",
      "121:  89.81,  92.08\n",
      "122:  42.68,  51.63\n",
      "123:  61.26,  76.99\n",
      "124: -51.07, -28.85\n",
      "137:  -6.75, -28.82\n",
      "138: -71.85, -86.39\n",
      "139: -17.41, -27.71\n",
      "140: -24.05, -26.13\n",
      "141:  80.32,  84.92\n",
      "142: -90.65, -81.27\n",
      "143:  58.27,  76.50\n"
     ]
    }
   ],
   "source": [
    "error = {}\n",
    "error_ls = []\n",
    "for key in sorted(predicted_antenna_delays.keys()):\n",
    "    print('{:3d}: {:6.2f}, {:6.2f}'.format(key,predicted_antenna_delays[key], scale_delays_to_ns(generated_ant_delays[key])))\n",
    "    error[key] = scale_delays_to_ns(generated_ant_delays[key]) - predicted_antenna_delays[key]\n",
    "    error_ls.append(error[key])"
   ]
  },
  {
   "cell_type": "code",
   "execution_count": 146,
   "metadata": {},
   "outputs": [
    {
     "data": {
      "text/plain": [
       "<matplotlib.collections.LineCollection at 0x1c7dfcaf90>"
      ]
     },
     "execution_count": 146,
     "metadata": {},
     "output_type": "execute_result"
    },
    {
     "data": {
      "image/png": "[encoded data removed]",
      "text/plain": [
       "<Figure size 432x288 with 1 Axes>"
      ]
     },
     "metadata": {},
     "output_type": "display_data"
    }
   ],
   "source": [
    "plt.vlines(range(len(error_ls)), 0, error_ls)"
   ]
  },
  {
   "cell_type": "code",
   "execution_count": null,
   "metadata": {},
   "outputs": [],
   "source": []
  }
 ],
 "metadata": {
  "kernelspec": {
   "display_name": "Python 2",
   "language": "python",
   "name": "python2"
  },
  "language_info": {
   "codemirror_mode": {
    "name": "ipython",
    "version": 2
   },
   "file_extension": ".py",
   "mimetype": "text/x-python",
   "name": "python",
   "nbconvert_exporter": "python",
   "pygments_lexer": "ipython2",
   "version": "2.7.15"
  },
  "varInspector": {
   "cols": {
    "lenName": 16,
    "lenType": 16,
    "lenVar": 40
   },
   "kernels_config": {
    "python": {
     "delete_cmd_postfix": "",
     "delete_cmd_prefix": "del ",
     "library": "var_list.py",
     "varRefreshCmd": "print(var_dic_list())"
    },
    "r": {
     "delete_cmd_postfix": ") ",
     "delete_cmd_prefix": "rm(",
     "library": "var_list.r",
     "varRefreshCmd": "cat(var_dic_list()) "
    }
   },
   "types_to_exclude": [
    "module",
    "function",
    "builtin_function_or_method",
    "instance",
    "_Feature"
   ],
   "window_display": false
  }
 },
 "nbformat": 4,
 "nbformat_minor": 2
}
