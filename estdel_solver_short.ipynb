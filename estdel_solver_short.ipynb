{
 "cells": [
  {
   "cell_type": "markdown",
   "metadata": {},
   "source": [
    "In general we are trying to solve an overdetermined system of equations, $\\text{A}\\bf{x} = \\bf{b}$.\n",
    "\n",
    " - Each row in the matrix $\\text{A}$ is derived from ratios of redundant visiblities, such that the elements of $\\text{A}$ are integers representing the antennas used in that ratio\n",
    "\n",
    " - the vector $\\bf{b}$ contains the sum of the antenna cable delays for that visibility ratio\n",
    "\n",
    " - the solution $\\bf{x}$ will provide the cable delay $\\tau$ for each antenna"
   ]
  },
  {
   "cell_type": "markdown",
   "metadata": {},
   "source": [
    "\\begin{equation}\n",
    "\\begin{bmatrix} \n",
    "1 & -2 & 1 & 0 & 0 & 0 & 0 & \\cdots& \\cdots\\\\ \n",
    "1 & -1 & -1 & 1 & 0 & 0 & 0 & \\cdots& \\cdots\\\\ \n",
    "\\vdots & \\vdots & \\vdots & \\vdots & \\vdots & \\vdots & \\vdots & \\ddots& \\cdots\\\\ \n",
    "\\vdots & \\vdots & \\vdots & \\vdots & \\vdots & \\vdots & \\vdots & \\vdots& \\ddots\\\\ \n",
    "\\end{bmatrix}\n",
    "\\begin{bmatrix} \n",
    "\\tau_1 \\\\ \\tau_2 \\\\ \\tau_3 \\\\ \\tau_4 \\\\ \\tau_5 \\\\ \\vdots \\\\ \\vdots \\\\ \\vdots\\\\\n",
    "\\end{bmatrix} =\n",
    "\\begin{bmatrix} \n",
    "134\\text{ns} \\\\ 78\\text{ns} \\\\ \\vdots \\\\ \\vdots \\\\ \\vdots \\\\ \\vdots \\\\ \\vdots \\\\ \\vdots\\\\\n",
    "\\end{bmatrix} \\rightarrow \\text{A}\\bf{x} = \\bf{b}\n",
    "\\end{equation}"
   ]
  },
  {
   "cell_type": "markdown",
   "metadata": {},
   "source": [
    "Each visibility ratio is proportional to a complex exponential\n",
    "\\begin{equation}\n",
    "\\frac{V_{i j}}{V_{k l}} \\propto \\exp{\\bigg(-2\\pi i \\cdot(\\tau_i - \\tau_j - \\tau_k + \\tau_l)\\bigg)}\n",
    "\\end{equation}"
   ]
  },
  {
   "cell_type": "markdown",
   "metadata": {},
   "source": [
    "Where in the example the first and second rows of $\\text{A}$ are made from these visibilities:\n",
    "\\begin{align}\n",
    "\\frac{V_{12}}{V_{23}} &\\leadsto 1\\tau_1 -2\\tau_2  + 1\\tau_3 \\rightarrow A_1\\\\\n",
    "\\frac{V_{12}}{V_{34}} &\\leadsto 1\\tau_1 -1\\tau_2  - 1\\tau_3 + 1\\tau_4 \\rightarrow A_2\\\\\n",
    "\\end{align} "
   ]
  },
  {
   "cell_type": "markdown",
   "metadata": {},
   "source": [
    "***\n"
   ]
  },
  {
   "cell_type": "code",
   "execution_count": 1,
   "metadata": {
    "ExecuteTime": {
     "end_time": "2018-08-14T21:17:13.154953Z",
     "start_time": "2018-08-14T21:17:02.431278Z"
    }
   },
   "outputs": [],
   "source": [
    "import random\n",
    "import numpy as np\n",
    "\n",
    "import estdel\n",
    "\n",
    "from estdel_nn.data_creation import data_manipulation as dm"
   ]
  },
  {
   "cell_type": "markdown",
   "metadata": {},
   "source": [
    "Load (or generate) a list of redundant baselines and get their data"
   ]
  },
  {
   "cell_type": "code",
   "execution_count": 2,
   "metadata": {},
   "outputs": [],
   "source": [
    "red_bls, gains, uvd = dm.load_relevant_data('zen_data/zen.2458098.58037.xx.HH.uv',\n",
    "                                            'zen_data/zen.2458098.58037.xx.HH.uv.abs.calfits')"
   ]
  },
  {
   "cell_type": "code",
   "execution_count": 3,
   "metadata": {},
   "outputs": [],
   "source": [
    "_, _bl_dict = dm.get_or_gen_test_train_red_bls_dicts(red_bls, gains.keys(),\n",
    "                                                     training_load_path = 'data/training_redundant_baselines_dict_80.npz',\n",
    "                                                     testing_load_path = 'data/testing_redundant_baselines_dict_80.npz')\n",
    "_bl_data = dm.get_seps_data(_bl_dict, uvd)"
   ]
  },
  {
   "cell_type": "code",
   "execution_count": 4,
   "metadata": {},
   "outputs": [],
   "source": [
    "_bl_data = _bl_data\n",
    "_bl_data_c = {key : _bl_data[key].conjugate() for key in _bl_data.keys()}"
   ]
  },
  {
   "cell_type": "code",
   "execution_count": 5,
   "metadata": {},
   "outputs": [],
   "source": [
    "_gains = gains\n",
    "_gains_c = {key : _gains[key].conjugate() for key in _gains.keys()}"
   ]
  },
  {
   "cell_type": "markdown",
   "metadata": {},
   "source": [
    "***"
   ]
  },
  {
   "cell_type": "markdown",
   "metadata": {},
   "source": [
    "Get the unique antennas"
   ]
  },
  {
   "cell_type": "code",
   "execution_count": 43,
   "metadata": {},
   "outputs": [],
   "source": [
    "unique_ants = []\n",
    "for key in _bl_dict.keys():\n",
    "    if len(_bl_dict[key]) >= 2:\n",
    "        for sep in _bl_dict[key]:\n",
    "            for ant in sep:\n",
    "                if ant not in unique_ants:\n",
    "                    unique_ants.append(ant)"
   ]
  },
  {
   "cell_type": "code",
   "execution_count": 44,
   "metadata": {},
   "outputs": [],
   "source": [
    "unique_ants = sorted(unique_ants)"
   ]
  },
  {
   "cell_type": "markdown",
   "metadata": {},
   "source": [
    "Assign each antenna a random delay in the range of -100ns to 100ns"
   ]
  },
  {
   "cell_type": "code",
   "execution_count": 45,
   "metadata": {},
   "outputs": [],
   "source": [
    "generated_ant_delays = {ant : np.random.uniform(low = -0.0100, high = 0.0100) for ant in unique_ants}"
   ]
  },
  {
   "cell_type": "markdown",
   "metadata": {},
   "source": [
    "Generate a list of abstracted visibility ratios from redundant baselines ( pairs of redundant separations)"
   ]
  },
  {
   "cell_type": "code",
   "execution_count": 46,
   "metadata": {},
   "outputs": [],
   "source": [
    "num_V_ratios = 100\n",
    "list_o_sep_pairs = []\n",
    "\n",
    "for i in range(num_V_ratios):\n",
    "    \n",
    "    # Randomly select a redundant baseline\n",
    "    unique_baseline = random.sample(_bl_dict.keys(), 1)[0]\n",
    "    \n",
    "    while len(_bl_dict[unique_baseline]) < 2:\n",
    "        unique_baseline = random.sample(_bl_dict.keys(), 1)[0]\n",
    "\n",
    "    # randomly select two sepearations from that baseline\n",
    "    two_seps = [random.sample(_bl_dict[unique_baseline], 2)][0]\n",
    "    \n",
    "    list_o_sep_pairs.append(two_seps)"
   ]
  },
  {
   "cell_type": "markdown",
   "metadata": {},
   "source": [
    "***\n",
    "Construct Data"
   ]
  },
  {
   "cell_type": "code",
   "execution_count": 47,
   "metadata": {},
   "outputs": [],
   "source": [
    "def _flatness(seps):\n",
    "    \"\"\"Create a flatness from a given pair of seperations, their data & their gains.\"\"\"\n",
    "\n",
    "    a, b = seps[0][0], seps[0][1]\n",
    "    c, d = seps[1][0], seps[1][1]\n",
    "\n",
    "    return _bl_data[seps[0]]   * _gains_c[(a,'x')] * _gains[(b,'x')] * \\\n",
    "           _bl_data_c[seps[1]] * _gains[(c,'x')]   * _gains_c[(d,'x')]"
   ]
  },
  {
   "cell_type": "code",
   "execution_count": 48,
   "metadata": {},
   "outputs": [],
   "source": [
    "def get_target(two_seps, d):\n",
    "    \n",
    "    ants = flatten_list_o_tuples(two_seps)\n",
    "    \n",
    "    ratio_delay  = d[ants[0]]\n",
    "    ratio_delay -= d[ants[1]]\n",
    "    ratio_delay -= d[ants[2]]\n",
    "    ratio_delay += d[ants[3]]\n",
    "    \n",
    "    return ratio_delay"
   ]
  },
  {
   "cell_type": "code",
   "execution_count": 49,
   "metadata": {},
   "outputs": [],
   "source": [
    "inputs = []\n",
    "targets = []\n",
    "flatten_list_o_tuples = lambda x: np.array(list(sum(x, ())))\n",
    "\n",
    "nu = np.arange(1024)\n",
    "for i in range(num_V_ratios):\n",
    "    \n",
    "\n",
    "    two_seps = list_o_sep_pairs[i]       \n",
    "    true_delay = get_target(two_seps, generated_ant_delays)\n",
    "    v_ratio = _flatness(two_seps)*np.exp(-2j*np.pi*(nu*true_delay + np.random.uniform()))\n",
    "    \n",
    "    inputs.append(v_ratio)\n",
    " "
   ]
  },
  {
   "cell_type": "code",
   "execution_count": 50,
   "metadata": {},
   "outputs": [],
   "source": [
    "freqs = np.linspace(0.100,0.200,1024)"
   ]
  },
  {
   "cell_type": "code",
   "execution_count": 51,
   "metadata": {},
   "outputs": [],
   "source": [
    "channel_width_in_GHz = np.mean(np.diff(freqs))"
   ]
  },
  {
   "cell_type": "code",
   "execution_count": 52,
   "metadata": {},
   "outputs": [],
   "source": [
    "def scale_delays_to_ns(delays, channel_width_in_GHz = np.mean(np.diff(np.linspace(0.100,0.200,1024)))):\n",
    "    return delays / channel_width_in_GHz"
   ]
  },
  {
   "cell_type": "code",
   "execution_count": 53,
   "metadata": {},
   "outputs": [],
   "source": [
    "# delays in nanoseconds\n",
    "true_ant_delays = {ant :scale_delays_to_ns(generated_ant_delays[ant]) for ant in generated_ant_delays.keys()}"
   ]
  },
  {
   "cell_type": "code",
   "execution_count": 54,
   "metadata": {},
   "outputs": [
    {
     "data": {
      "text/plain": [
       "array([  1,  11,  12,  13,  14,  23,  24,  25,  26,  27,  36,  37,  38,\n",
       "        39,  40,  41,  51,  52,  53,  54,  55,  65,  66,  67,  68,  69,\n",
       "        70,  71,  82,  83,  84,  86,  87,  88, 120, 121, 122, 123, 124,\n",
       "       137, 138, 139, 140, 141, 142, 143], dtype=int32)"
      ]
     },
     "execution_count": 54,
     "metadata": {},
     "output_type": "execute_result"
    }
   ],
   "source": [
    "np.unique(list_o_sep_pairs)"
   ]
  },
  {
   "cell_type": "code",
   "execution_count": 55,
   "metadata": {},
   "outputs": [],
   "source": [
    "tester = estdel.DelaySolver(list_o_sep_pairs, inputs, conversion_fn='default')"
   ]
  },
  {
   "cell_type": "code",
   "execution_count": 56,
   "metadata": {},
   "outputs": [],
   "source": [
    "true_b = tester.true_b(true_ant_delays)"
   ]
  },
  {
   "cell_type": "code",
   "execution_count": 57,
   "metadata": {},
   "outputs": [],
   "source": [
    "tester.predict()"
   ]
  },
  {
   "cell_type": "code",
   "execution_count": 58,
   "metadata": {},
   "outputs": [],
   "source": [
    "pred_b = tester.v_ratio_row_predictions"
   ]
  },
  {
   "cell_type": "code",
   "execution_count": 59,
   "metadata": {},
   "outputs": [],
   "source": [
    "# http://maxwell.ucsc.edu/~drip/133/ch4.pdf\n",
    "red_chi2 = np.sum((pred_b - np.mean(pred_b))**2/np.std(pred_b)**2) / len(pred_b)"
   ]
  },
  {
   "cell_type": "code",
   "execution_count": 60,
   "metadata": {},
   "outputs": [
    {
     "data": {
      "text/plain": [
       "1.0000000000000002"
      ]
     },
     "execution_count": 60,
     "metadata": {},
     "output_type": "execute_result"
    }
   ],
   "source": [
    "red_chi2"
   ]
  },
  {
   "cell_type": "code",
   "execution_count": 61,
   "metadata": {},
   "outputs": [],
   "source": [
    "import matplotlib.pyplot as plt"
   ]
  },
  {
   "cell_type": "code",
   "execution_count": 62,
   "metadata": {},
   "outputs": [
    {
     "data": {
      "image/png": "[encoded data removed]",
      "text/plain": [
       "<Figure size 1152x432 with 1 Axes>"
      ]
     },
     "metadata": {},
     "output_type": "display_data"
    }
   ],
   "source": [
    "fig, ax = plt.subplots(figsize = (8,3), dpi = 144)\n",
    "plt.vlines(range(len(pred_b)), 0, true_b- pred_b, lw = 0.5);\n"
   ]
  },
  {
   "cell_type": "code",
   "execution_count": 63,
   "metadata": {},
   "outputs": [
    {
     "data": {
      "image/png": "[encoded data removed]",
      "text/plain": [
       "<Figure size 1152x432 with 1 Axes>"
      ]
     },
     "metadata": {},
     "output_type": "display_data"
    }
   ],
   "source": [
    "fig, ax = plt.subplots(figsize = (8,3), dpi = 144)\n",
    "plt.hist(true_b- pred_b, bins = 100);"
   ]
  },
  {
   "cell_type": "code",
   "execution_count": 66,
   "metadata": {},
   "outputs": [
    {
     "data": {
      "text/plain": [
       "1.4690603307472008"
      ]
     },
     "execution_count": 66,
     "metadata": {},
     "output_type": "execute_result"
    }
   ],
   "source": [
    "np.std(np.abs(true_b- pred_b))"
   ]
  },
  {
   "cell_type": "code",
   "execution_count": 67,
   "metadata": {},
   "outputs": [],
   "source": [
    "A = tester.A"
   ]
  },
  {
   "cell_type": "code",
   "execution_count": 68,
   "metadata": {},
   "outputs": [],
   "source": [
    "x_prediction_eval = np.linalg.lstsq(A[:, tester.unique_ants], pred_b, rcond = None)"
   ]
  },
  {
   "cell_type": "code",
   "execution_count": 69,
   "metadata": {},
   "outputs": [],
   "source": [
    "x_prediction = x_prediction_eval[0]"
   ]
  },
  {
   "cell_type": "code",
   "execution_count": 70,
   "metadata": {},
   "outputs": [
    {
     "data": {
      "text/plain": [
       "array([ 14.38270112, -71.25807254,  31.12768763,  95.31048981,\n",
       "       -46.58979282,  18.69873428,  52.46379305,  77.57537089,\n",
       "       -43.83331429,  52.11009352, -19.2404874 , -87.27883836,\n",
       "       -93.48388658,  -1.53840049,  18.53639411,   9.59412218,\n",
       "       -78.50999148,  67.26008892, -42.58809851, -99.34283369,\n",
       "        21.36082866,  37.50409003, -91.08343776,  20.29607327,\n",
       "         8.94551611,  54.62687147,  43.18902185, -31.69637798,\n",
       "       -11.73120839,  75.16301469,  18.73778883, -83.39196014,\n",
       "        95.08247223,   4.3110653 , -96.13464276,  47.64984091,\n",
       "        28.65923923, -46.23159984,   6.71367781,  92.032246  ,\n",
       "        11.22701081,  32.10904739, -20.61206267, -57.2656438 ,\n",
       "        13.41907676, -26.27570737])"
      ]
     },
     "execution_count": 70,
     "metadata": {},
     "output_type": "execute_result"
    }
   ],
   "source": [
    "x_prediction"
   ]
  },
  {
   "cell_type": "code",
   "execution_count": 71,
   "metadata": {},
   "outputs": [
    {
     "data": {
      "text/plain": [
       "{1: 14.382701123952597,\n",
       " 11: -71.25807254088298,\n",
       " 12: 31.12768762583415,\n",
       " 13: 95.31048980605924,\n",
       " 14: -46.58979281672049,\n",
       " 23: 18.698734280905985,\n",
       " 24: 52.463793051335294,\n",
       " 25: 77.57537089478134,\n",
       " 26: -43.833314294962506,\n",
       " 27: 52.1100935208543,\n",
       " 36: -19.240487401329545,\n",
       " 37: -87.27883836031478,\n",
       " 38: -93.48388657992325,\n",
       " 39: -1.5384004893576488,\n",
       " 40: 18.53639410598512,\n",
       " 41: 9.594122177574068,\n",
       " 51: -78.50999147514169,\n",
       " 52: 67.26008892477618,\n",
       " 53: -42.58809850632368,\n",
       " 54: -99.34283369337358,\n",
       " 55: 21.360828655273295,\n",
       " 65: 37.50409003406292,\n",
       " 66: -91.08343776074608,\n",
       " 67: 20.29607327107252,\n",
       " 68: 8.945516110253052,\n",
       " 69: 54.62687147103776,\n",
       " 70: 43.189021847599925,\n",
       " 71: -31.696377977211732,\n",
       " 82: -11.731208390869956,\n",
       " 83: 75.16301469102723,\n",
       " 84: 18.73778882552012,\n",
       " 86: -83.39196013949984,\n",
       " 87: 95.08247222893735,\n",
       " 88: 4.311065298231798,\n",
       " 120: -96.13464276259754,\n",
       " 121: 47.649840913342004,\n",
       " 122: 28.65923923009023,\n",
       " 123: -46.23159983944444,\n",
       " 124: 6.713677812150934,\n",
       " 137: 92.0322459957595,\n",
       " 138: 11.227010812564757,\n",
       " 139: 32.109047393392125,\n",
       " 140: -20.61206266908416,\n",
       " 141: -57.26564379511158,\n",
       " 142: 13.4190767644211,\n",
       " 143: -26.275707373898182}"
      ]
     },
     "execution_count": 71,
     "metadata": {},
     "output_type": "execute_result"
    }
   ],
   "source": [
    "predicted_antenna_delays = {tester.unique_ants[i]: x_prediction[i] for i in range(len(x_prediction))}\n",
    "predicted_antenna_delays"
   ]
  },
  {
   "cell_type": "code",
   "execution_count": 72,
   "metadata": {},
   "outputs": [
    {
     "name": "stdout",
     "output_type": "stream",
     "text": [
      "  1:  14.38,  19.03\n",
      " 11: -71.26, -74.10\n",
      " 12:  31.13,  35.62\n",
      " 13:  95.31, 101.63\n",
      " 14: -46.59, -35.84\n",
      " 23:  18.70,  12.10\n",
      " 24:  52.46,  53.25\n",
      " 25:  77.58,  82.07\n",
      " 26: -43.83, -37.42\n",
      " 27:  52.11,  68.02\n",
      " 36: -19.24, -28.15\n",
      " 37: -87.28, -93.33\n",
      " 38: -93.48, -92.88\n",
      " 39:  -1.54,   4.81\n",
      " 40:  18.54,  29.97\n",
      " 41:   9.59,  27.92\n",
      " 51: -78.51, -83.93\n",
      " 52:  67.26,  62.08\n",
      " 53: -42.59, -38.65\n",
      " 54: -99.34, -92.90\n",
      " 55:  21.36,  34.35\n",
      " 65:  37.50,  17.88\n",
      " 66: -91.08, -101.87\n",
      " 67:  20.30,  14.94\n",
      " 68:   8.95,   7.31\n",
      " 69:  54.63,  54.77\n",
      " 70:  43.19,  47.53\n",
      " 71: -31.70, -19.99\n",
      " 82: -11.73, -25.83\n",
      " 83:  75.16,  65.28\n",
      " 84:  18.74,  12.28\n",
      " 86: -83.39, -77.83\n",
      " 87:  95.08, 102.12\n",
      " 88:   4.31,  18.56\n",
      "120: -96.13, -100.47\n",
      "121:  47.65,  45.32\n",
      "122:  28.66,  34.18\n",
      "123: -46.23, -38.00\n",
      "124:   6.71,  19.16\n",
      "137:  92.03,  73.11\n",
      "138:  11.23,  -4.15\n",
      "139:  32.11,  23.15\n",
      "140: -20.61, -26.77\n",
      "141: -57.27, -55.63\n",
      "142:  13.42,  17.53\n",
      "143: -26.28, -17.66\n"
     ]
    }
   ],
   "source": [
    "error = {}\n",
    "error_ls = []\n",
    "for key in sorted(predicted_antenna_delays.keys()):\n",
    "    print('{:3d}: {:6.2f}, {:6.2f}'.format(key,predicted_antenna_delays[key], scale_delays_to_ns(generated_ant_delays[key])))\n",
    "    error[key] = scale_delays_to_ns(generated_ant_delays[key]) - predicted_antenna_delays[key]\n",
    "    error_ls.append(error[key])"
   ]
  },
  {
   "cell_type": "code",
   "execution_count": 73,
   "metadata": {},
   "outputs": [
    {
     "data": {
      "text/plain": [
       "<matplotlib.collections.LineCollection at 0x10296ba10>"
      ]
     },
     "execution_count": 73,
     "metadata": {},
     "output_type": "execute_result"
    },
    {
     "data": {
      "image/png": "[encoded data removed]",
      "text/plain": [
       "<Figure size 432x288 with 1 Axes>"
      ]
     },
     "metadata": {},
     "output_type": "display_data"
    }
   ],
   "source": [
    "plt.vlines(range(len(error_ls)), 0, error_ls)"
   ]
  },
  {
   "cell_type": "code",
   "execution_count": null,
   "metadata": {},
   "outputs": [],
   "source": []
  },
  {
   "cell_type": "code",
   "execution_count": null,
   "metadata": {},
   "outputs": [],
   "source": []
  },
  {
   "cell_type": "code",
   "execution_count": null,
   "metadata": {},
   "outputs": [],
   "source": []
  }
 ],
 "metadata": {
  "kernelspec": {
   "display_name": "Python 2",
   "language": "python",
   "name": "python2"
  },
  "language_info": {
   "codemirror_mode": {
    "name": "ipython",
    "version": 2
   },
   "file_extension": ".py",
   "mimetype": "text/x-python",
   "name": "python",
   "nbconvert_exporter": "python",
   "pygments_lexer": "ipython2",
   "version": "2.7.15"
  },
  "varInspector": {
   "cols": {
    "lenName": 16,
    "lenType": 16,
    "lenVar": 40
   },
   "kernels_config": {
    "python": {
     "delete_cmd_postfix": "",
     "delete_cmd_prefix": "del ",
     "library": "var_list.py",
     "varRefreshCmd": "print(var_dic_list())"
    },
    "r": {
     "delete_cmd_postfix": ") ",
     "delete_cmd_prefix": "rm(",
     "library": "var_list.r",
     "varRefreshCmd": "cat(var_dic_list()) "
    }
   },
   "types_to_exclude": [
    "module",
    "function",
    "builtin_function_or_method",
    "instance",
    "_Feature"
   ],
   "window_display": false
  }
 },
 "nbformat": 4,
 "nbformat_minor": 2
}
